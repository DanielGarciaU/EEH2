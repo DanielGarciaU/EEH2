{
 "cells": [
  {
   "cell_type": "code",
   "execution_count": 70,
   "metadata": {},
   "outputs": [],
   "source": [
    "import pandas as pd\n",
    "import pyodbc\n",
    "from sqlalchemy import create_engine\n",
    "from sqlalchemy.engine import URL\n",
    "from openpyxl import load_workbook as lw\n",
    "from openpyxl.utils import get_column_letter"
   ]
  },
  {
   "cell_type": "code",
   "execution_count": 71,
   "metadata": {},
   "outputs": [],
   "source": [
    "connection_string = \"\"\"Driver={SQL Server};\n",
    "            Server=ASVRDB03;\n",
    "            Database=CONTROLENERGIA;\n",
    "            UID=daniel.garcia;\n",
    "            PWD=Daniel2022*;\"\"\"\n",
    "\n",
    "connection_url = URL.create(\"mssql+pyodbc\", query={\"odbc_connect\": connection_string})\n",
    "engine = create_engine(connection_url)\n",
    "conn= con=engine"
   ]
  },
  {
   "cell_type": "code",
   "execution_count": 72,
   "metadata": {},
   "outputs": [],
   "source": [
    "prueba_historico = pd.read_sql(\"Select top 100* from historico_consumos\", con=engine)"
   ]
  },
  {
   "cell_type": "code",
   "execution_count": 73,
   "metadata": {},
   "outputs": [],
   "source": [
    "pa_prom_lect_real = pd.read_sql(\"Select * from pa_prom_lect_real\", conn)"
   ]
  },
  {
   "cell_type": "code",
   "execution_count": null,
   "metadata": {},
   "outputs": [],
   "source": [
    "prueba_historico.head(n=5)"
   ]
  },
  {
   "cell_type": "code",
   "execution_count": null,
   "metadata": {},
   "outputs": [],
   "source": [
    "claves = prueba_historico['CLAVE']\n",
    "claves"
   ]
  },
  {
   "cell_type": "code",
   "execution_count": 76,
   "metadata": {},
   "outputs": [],
   "source": [
    "prueba_historico.to_excel(\"prueba_historico.xlsx\", index=False)"
   ]
  },
  {
   "cell_type": "code",
   "execution_count": 77,
   "metadata": {},
   "outputs": [],
   "source": [
    "with pd.ExcelWriter('prueba_historico.xlsx', engine=\"openpyxl\",\n",
    "                    mode='a') as writer:  \n",
    "    pa_prom_lect_real.to_excel(writer, sheet_name='Añadido')"
   ]
  },
  {
   "cell_type": "code",
   "execution_count": null,
   "metadata": {},
   "outputs": [],
   "source": [
    "prueba_historico2 = pd.read_sql(\"Select top 50* from historico_consumos order by clave desc\", con=engine)\n",
    "prueba_historico2"
   ]
  },
  {
   "cell_type": "code",
   "execution_count": 79,
   "metadata": {},
   "outputs": [],
   "source": [
    "wb = lw('prueba_historico.xlsx')\n",
    "ws = wb['Sheet1']"
   ]
  },
  {
   "cell_type": "code",
   "execution_count": 80,
   "metadata": {},
   "outputs": [
    {
     "data": {
      "text/plain": [
       "101"
      ]
     },
     "execution_count": 80,
     "metadata": {},
     "output_type": "execute_result"
    }
   ],
   "source": [
    "len(ws['A'])"
   ]
  },
  {
   "cell_type": "code",
   "execution_count": 81,
   "metadata": {},
   "outputs": [],
   "source": [
    "with pd.ExcelWriter('prueba_historico.xlsx', engine=\"openpyxl\",\n",
    "                    mode='a', if_sheet_exists='overlay') as writer:  \n",
    "    prueba_historico2.to_excel(writer, sheet_name='Sheet1', header=None, index=False, startcol=0, startrow=len(ws['A']))"
   ]
  },
  {
   "attachments": {},
   "cell_type": "markdown",
   "metadata": {},
   "source": [
    "*LINEAS DE ACCIÓN*"
   ]
  },
  {
   "attachments": {},
   "cell_type": "markdown",
   "metadata": {},
   "source": [
    "\n",
    "# Normalizaciones sin Levantamiento\n"
   ]
  },
  {
   "cell_type": "code",
   "execution_count": 97,
   "metadata": {},
   "outputs": [],
   "source": [
    "NORM_SIN_LEV = pd.read_sql('''SELECT a.clave,\n",
    "       a.os,\n",
    "       Format(a.fecha_reporte, 'yyMM')                      ciclo_reportado,\n",
    "       c.fecha_lec_anterior,\n",
    "       a.fecha_reporte,\n",
    "       Datediff(day, c.fecha_lec_anterior, a.fecha_reporte) dias_transcurridos,\n",
    "       f.promedio_diario,\n",
    "       Round(( Datediff(day, c.fecha_lec_anterior,\n",
    "             a.fecha_reporte) ) * f.promedio_diario, 0)\t\tcsmo_dias_transcurridos,\n",
    "       f.promedio_mensual,\n",
    "       a.lectura_acta - Round(( ( Datediff(day, c.fecha_lec_anterior,\n",
    "       a.fecha_reporte) ) * f.promedio_diario ), 0)         lect_ctrl_ingresar,\n",
    "       a.fecha_calendario,\n",
    "       a.fecha_acta,\n",
    "       Format(a.fecha_acta, 'yyyyMMdd')                     fecha_acta_valid,\t--En caso de error validar si el campo fecha_acta IS NULL\n",
    "       a.dias_para_facturacion\t\t\t\t\t\t\t\tdias_para_facturacion_desde_reporte,\n",
    "       Datediff(dd, Getdate(), a.fecha_calendario)\t\t\tdias_para_facturacion_actual,\n",
    "       c.lectura                                            lectura_ciclo,\n",
    "       a.lectura_acta,\n",
    "       a.ult_lect_real,\n",
    "       a.csmo_dif_lect,\n",
    "       a.csmo_fact_por_promedios,\n",
    "       a.csmo_dif_lect - a.csmo_fact_por_promedios          kWh_a_devolver,\n",
    "       c.lectura - a.lectura_acta                           csmo_dejado_de_fact,\n",
    "       d.tipo_anomalia,\n",
    "       e.categoria,\n",
    "       a.accion,\n",
    "       b.lect\t\t\t\t\t\t\t\t\t\t\t\tlect_control_ingresada,\n",
    "       b.usuario\t\t\t\t\t\t\t\t\t\t\tusuario_ingreso_lect_contrl,\n",
    "       b.desc_usr,\n",
    "       b.nom_perfil                                         proceso,\n",
    "       a.sectoreeh,\n",
    "       Iif(b.usuario IS NULL, 'No se ingresó lect. ctrl',\n",
    "       'Si se ingresó lect. ctrl')\t\t\t\t\t\t\testado,\n",
    "       a.fecha_reg\n",
    "FROM   pa_norm_sin_lvto a\n",
    "       LEFT JOIN pa_lecturas_control_st b\n",
    "              ON Iif(b.nis_rad BETWEEN 3000000 AND 4000000, nis_rad - 3000000,\n",
    "                 nis_rad)\n",
    "                 = a.clave\n",
    "                 AND b.ciclo_actual = Format(a.fecha_reporte, 'yyMM')\n",
    "       LEFT JOIN historico_consumos c\n",
    "              ON c.clave = a.clave\n",
    "                 AND c.ciclo = Format(a.fecha_reporte, 'yyMM')\n",
    "       LEFT JOIN viewcontrol_resumen d\n",
    "              ON d.os = a.os\n",
    "       LEFT JOIN dir_universos_actual e\n",
    "              ON e.clave = a.clave\n",
    "                 AND Format(e.fecha_ejecucion_ult_os, 'yyyyMMdd') =\n",
    "                     Format(a.fecha_acta, 'yyyyMMdd')\n",
    "       LEFT JOIN (SELECT nis_rad,\n",
    "                         CASE\n",
    "                           WHEN nis_rad BETWEEN 3000000 AND 4000000 THEN\n",
    "                           nis_rad - 3000000\n",
    "                           ELSE nis_rad\n",
    "                         END clave,\n",
    "                         promedio_diario,\n",
    "                         promedio_mensual\n",
    "                  FROM   prp_promedios\n",
    "                  WHERE  periodo = 202211\t\t\t--COLOCAR CICLO MES ACTUAL\n",
    "                         AND tip_csmo IN ( 'CO001', 'CO011' )) f\n",
    "              ON f.clave = a.clave\n",
    "WHERE  a.accion = 'Ingresar Lect. Control'\n",
    "       AND ciclo <= Format(Sysdatetime(), 'yyMM')\n",
    "       --Para ciclos menores o iguales al actual\n",
    "       AND a.clave NOT IN (SELECT clave\n",
    "                           FROM   dir_universos_actual\n",
    "                           WHERE  amerita_cambio_medidor IN ( 1 ))\n",
    "ORDER  BY a.fecha_reg DESC ''', con=engine)"
   ]
  },
  {
   "cell_type": "code",
   "execution_count": 107,
   "metadata": {},
   "outputs": [
    {
     "data": {
      "text/plain": [
       "202"
      ]
     },
     "execution_count": 107,
     "metadata": {},
     "output_type": "execute_result"
    }
   ],
   "source": [
    "path_norm_sin_lev = r'C:\\Users\\daniel.garcia\\OneDrive - Empresa Energía Honduras\\Cierre\\Informes - Seguimiento Cierre\\Seguimiento - Norm sin lvto\\Seguimiento - Norm sin lvto_v2.xlsx'\n",
    "wb_NORM = lw(path_norm_sin_lev)\n",
    "ws_NORM = wb_NORM['Consulta1']\n",
    "len(ws_NORM['A'])\n"
   ]
  },
  {
   "cell_type": "code",
   "execution_count": 108,
   "metadata": {},
   "outputs": [],
   "source": [
    "with pd.ExcelWriter(path_norm_sin_lev, engine=\"openpyxl\",\n",
    "                    mode='a', if_sheet_exists='new') as writer:  \n",
    "    NORM_SIN_LEV.to_excel(writer, sheet_name='Consulta2', index=False,)"
   ]
  },
  {
   "attachments": {},
   "cell_type": "markdown",
   "metadata": {},
   "source": [
    "Nueva linea"
   ]
  }
 ],
 "metadata": {
  "kernelspec": {
   "display_name": "daniel",
   "language": "python",
   "name": "python3"
  },
  "language_info": {
   "codemirror_mode": {
    "name": "ipython",
    "version": 3
   },
   "file_extension": ".py",
   "mimetype": "text/x-python",
   "name": "python",
   "nbconvert_exporter": "python",
   "pygments_lexer": "ipython3",
   "version": "3.9.15 (main, Nov 24 2022, 14:39:17) [MSC v.1916 64 bit (AMD64)]"
  },
  "orig_nbformat": 4,
  "vscode": {
   "interpreter": {
    "hash": "20ed0bf975fd7b598a6a7a70e57ce24fdf26cf106a2f320af9ad5a4e124272b7"
   }
  }
 },
 "nbformat": 4,
 "nbformat_minor": 2
}
